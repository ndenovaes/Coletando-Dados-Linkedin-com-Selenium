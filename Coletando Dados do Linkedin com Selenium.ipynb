{
 "cells": [
  {
   "cell_type": "code",
   "execution_count": null,
   "id": "8b91f56b",
   "metadata": {},
   "outputs": [],
   "source": [
    "# 1.Todas as importacoes\n",
    "\n",
    "# Criar uma instancia do Goolge Chrome pelo Selenium\n",
    "from selenium import webdriver\n",
    "from selenium.webdriver.common.by import By\n",
    "from time import sleep # Importa a função de tempo\n",
    "## 2.Todos os parametros\n",
    "\n",
    "URL_LINKEDIN_DS = 'https://www.linkedin.com/jobs/ci%C3%AAncia-de-dados-vagas/?originalSubdomain=br'\n",
    "\n",
    "## 3. Execução do código\n",
    "driver = webdriver.Chrome()\n",
    "driver.implicitly_wait(10)\n",
    "driver.get(URL_LINKEDIN_DS)\n",
    "\n",
    "# Pegar lista de resultado de vagas de DS\n",
    "resultados = driver.find_elements(By.CLASS_NAME,'base-card')\n",
    "\n",
    "lista_descricoes = []\n",
    "\n",
    "# Inicio de  Loop em cima de todos os resultados\n",
    "while True:\n",
    "    # For loop para coletar descrições de dados\n",
    "    for r in resultados[len(lista_descricoes):]:    \n",
    "        r.click() # Clicar na descrição\n",
    "        sleep(1)#Tempo de execução\n",
    "        try:\n",
    "            # Pegar o elemento com a descrição\n",
    "            descricao = driver.find_element(By.CLASS_NAME,'show-more-less-html__markup')\n",
    "            # Anexar o texto na lista\n",
    "            lista_descricoes.append(descricao.text)\n",
    "        except:\n",
    "            print('Erro')\n",
    "            pass\n",
    "        \n",
    "        resultados = driver.find_elements(By.CLASS_NAME,'base-card')\n",
    "\n",
    "        # Critério de saída do  While\n",
    "        if len(lista_descricoes) == len(resultados):\n",
    "            break\n",
    "# Salvar descrições de vagas\n",
    "descri_salvar = '\\n'.join(lista_descricoes)\n",
    "with open('descricoes_vagas.txt', 'w', encoding=\"utf-8\") as f:\n",
    "    f.write(descri_salvar)\n",
    "\n",
    "#Fechar o google driver\n",
    "driver.quit()"
   ]
  },
  {
   "cell_type": "code",
   "execution_count": null,
   "id": "e39a3dc4",
   "metadata": {},
   "outputs": [],
   "source": []
  }
 ],
 "metadata": {
  "kernelspec": {
   "display_name": "Python 3",
   "language": "python",
   "name": "python3"
  },
  "language_info": {
   "codemirror_mode": {
    "name": "ipython",
    "version": 3
   },
   "file_extension": ".py",
   "mimetype": "text/x-python",
   "name": "python",
   "nbconvert_exporter": "python",
   "pygments_lexer": "ipython3",
   "version": "3.8.8"
  }
 },
 "nbformat": 4,
 "nbformat_minor": 5
}
